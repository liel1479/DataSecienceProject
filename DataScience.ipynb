{
 "cells": [
  {
   "attachments": {},
   "cell_type": "markdown",
   "metadata": {},
   "source": [
    "Data Science - Final project"
   ]
  },
  {
   "attachments": {},
   "cell_type": "markdown",
   "metadata": {},
   "source": [
    "By Gal Levi and Liel Cohen"
   ]
  },
  {
   "attachments": {},
   "cell_type": "markdown",
   "metadata": {},
   "source": [
    "Crawling"
   ]
  },
  {
   "cell_type": "code",
   "execution_count": 1,
   "metadata": {},
   "outputs": [],
   "source": [
    "import re\n",
    "import time\n",
    "from datetime import datetime\n",
    "\n",
    "import pandas as pd\n",
    "from selenium import webdriver\n",
    "from selenium.webdriver.common.by import By\n",
    "from selenium.webdriver.chrome.service import Service\n",
    "from webdriver_manager.chrome import ChromeDriverManager"
   ]
  },
  {
   "cell_type": "code",
   "execution_count": null,
   "metadata": {},
   "outputs": [],
   "source": [
    "class LaptopCrawler:\n",
    "    def __init__(self, chromedriver_path, url):\n",
    "        self.chromedriver_path = chromedriver_path\n",
    "        self.url = url\n",
    "        self.driver = webdriver.Chrome(service=Service(ChromeDriverManager().install()))\n",
    "\n",
    "    def get_laptops(self):\n",
    "        laptops = []\n",
    "        self.driver.get(self.url)\n",
    "        for i in range(160):\n",
    "            elements = self.driver.find_elements(By.CLASS_NAME, \"more-details\")\n",
    "\n",
    "            # Retrieve the href attribute of each element\n",
    "            for element in elements:\n",
    "                href = element.get_attribute(\"href\")\n",
    "                laptops.append(href)\n",
    "            self.driver.find_element(by=By.CLASS_NAME, value=\"page-item.next\").click()\n",
    "        return laptops\n",
    "\n",
    "    def get_details(self, laptops):\n",
    "        all_details = []\n",
    "        for laptop in laptops:\n",
    "            time.sleep(2)\n",
    "            self.driver.get(laptop)\n",
    "            crawling_time = datetime.now()\n",
    "            price_and_stores = self.driver.find_element(By.CLASS_NAME, \"prices-txt\").text\n",
    "            price_and_stores = re.findall(r'\\b\\d+(?:,\\d+)?\\b', price_and_stores)\n",
    "            laptop_val = {}\n",
    "            rows_values = self.driver.find_elements(By.CLASS_NAME, \"paramRow\")\n",
    "            for row in rows_values:\n",
    "                param_and_value = row.text.split('\\n')\n",
    "                if len(param_and_value) == 2:\n",
    "                    laptop_val[param_and_value[0]] = param_and_value[1]\n",
    "            if len(price_and_stores) == 3:\n",
    "                laptop_val['lower_price'] = price_and_stores[0]\n",
    "                laptop_val['higher_price'] = price_and_stores[1]\n",
    "                laptop_val['num_of_stores'] = price_and_stores[2]\n",
    "            elif len(price_and_stores) == 2:\n",
    "                laptop_val['lower_price'] = price_and_stores[0]\n",
    "                laptop_val['higher_price'] = price_and_stores[0]\n",
    "                laptop_val['num_of_stores'] = price_and_stores[1]\n",
    "            else:\n",
    "                laptop_val['lower_price'] = price_and_stores[0]\n",
    "                laptop_val['higher_price'] = price_and_stores[0]\n",
    "                laptop_val['num_of_stores'] = 1\n",
    "            laptop_val['crawling_time'] = crawling_time\n",
    "            all_details.append(laptop_val)\n",
    "        df = pd.DataFrame(all_details)\n",
    "        df.to_excel(\"output.xlsx\")"
   ]
  },
  {
   "cell_type": "code",
   "execution_count": null,
   "metadata": {},
   "outputs": [],
   "source": [
    "class BenchmarkCrawler:\n",
    "    def __init__(self, chromedriver_path, url):\n",
    "        self.chromedriver_path = chromedriver_path\n",
    "        self.url = url\n",
    "        self.driver = webdriver.Chrome(service=Service(ChromeDriverManager().install()))\n",
    "\n",
    "    def crawl_cpu(self):\n",
    "        # Load the web page\n",
    "        self.driver.get(self.url)\n",
    "\n",
    "        # Find the table element by ID\n",
    "        table = self.driver.find_element(By.ID, \"cputable\")\n",
    "\n",
    "        # Find all rows in the table\n",
    "        rows = table.find_elements(By.TAG_NAME, \"tr\")\n",
    "\n",
    "        # Create empty lists to store the column data\n",
    "        cpu_names = []\n",
    "        cpu_marks = []\n",
    "        ranks = []\n",
    "        prices = []\n",
    "\n",
    "        # Loop through the rows and extract the data\n",
    "        for row in rows[1:]:  # Exclude the header row\n",
    "            # Find columns within each row\n",
    "            columns = row.find_elements(By.TAG_NAME, \"td\")\n",
    "\n",
    "            # Extract the text from each column\n",
    "            cpu_name = columns[0].text\n",
    "            cpu_mark = columns[1].text\n",
    "            rank = columns[2].text\n",
    "            price = columns[3].text\n",
    "\n",
    "            # Append the data to the respective lists\n",
    "            cpu_names.append(cpu_name)\n",
    "            cpu_marks.append(cpu_mark)\n",
    "            ranks.append(rank)\n",
    "            prices.append(price)\n",
    "\n",
    "        # Close the WebDriver\n",
    "        self.driver.quit()\n",
    "\n",
    "        # Create a DataFrame from the data lists\n",
    "        data = {\"CPU_name\": cpu_names, \"CPU_mark\": cpu_marks, \"Rank\": ranks, \"Price\": prices}\n",
    "        df = pd.DataFrame(data)\n",
    "\n",
    "        df.to_excel(\"benchmark.xlsx\")"
   ]
  },
  {
   "cell_type": "code",
   "execution_count": null,
   "metadata": {},
   "outputs": [],
   "source": [
    "def main():\n",
    "    chromedriver_path = r\"../chromedriver.exe\"\n",
    "    url = \"https://www.zap.co.il/models.aspx?sog=c-pclaptop\"\n",
    "    cpu_banchmark_crawler = BenchmarkCrawler(chromedriver_path, 'https://www.cpubenchmark.net/cpu_list.php')\n",
    "    cpu_banchmark_crawler.crawl_cpu()\n",
    "\n",
    "    laptop_crawler = LaptopCrawler(chromedriver_path, url)\n",
    "    laptops = laptop_crawler.get_laptops()\n",
    "    laptop_crawler.get_details(laptops)\n",
    "\n",
    "\n",
    "if __name__ == '__main__':\n",
    "    main()"
   ]
  },
  {
   "attachments": {},
   "cell_type": "markdown",
   "metadata": {},
   "source": [
    "Crosscheck CPU benchmark"
   ]
  },
  {
   "cell_type": "code",
   "execution_count": null,
   "metadata": {},
   "outputs": [],
   "source": [
    "# Read the input files\n",
    "df1 = pd.read_excel('output.xlsx', sheet_name='Sheet1', index_col=None)\n",
    "df1 = df1.drop(columns=df1.columns[0])\n",
    "df2 = pd.read_excel('benchmark.xlsx', sheet_name='Sheet1', index_col=None)\n",
    "df2 = df2.drop(columns=df2.columns[0])\n",
    "\n",
    "# Create a copy of the DataFrames\n",
    "data = pd.DataFrame.copy(df1)\n",
    "cpu_benchmark = pd.DataFrame.copy(df2)\n",
    "\n",
    "\n",
    "# Function to get the CPU mark based on the processor model and type\n",
    "def get_cpu_mark(row):\n",
    "    processor_model = row['דגם מעבד']\n",
    "    processor_type = row['סוג מעבד']\n",
    "    matched_row = cpu_benchmark[cpu_benchmark['CPU_name'].str.contains(processor_model, case=False)]\n",
    "    if not matched_row.empty:\n",
    "        return matched_row['CPU_mark'].values[0]\n",
    "    matched_row = cpu_benchmark[cpu_benchmark['CPU_name'].str.contains('Apple ' + processor_type, case=False)]\n",
    "    if not matched_row.empty:\n",
    "        return matched_row['CPU_mark'].values[0]\n",
    "    else:\n",
    "        return None\n",
    "\n",
    "\n",
    "# Add CPU_mark column to data using apply function\n",
    "data['CPU_mark'] = data.apply(lambda row: get_cpu_mark(row), axis=1)\n",
    "data.to_excel(\"all_details.xlsx\", index=False)"
   ]
  },
  {
   "attachments": {},
   "cell_type": "markdown",
   "metadata": {},
   "source": [
    "Data Cleaning"
   ]
  },
  {
   "cell_type": "code",
   "execution_count": null,
   "metadata": {},
   "outputs": [],
   "source": [
    "import re\n",
    "import numpy as np\n",
    "import pandas as pd"
   ]
  },
  {
   "cell_type": "code",
   "execution_count": null,
   "metadata": {},
   "outputs": [],
   "source": [
    "# Copy df\n",
    "df1 = pd.read_excel('all_details.xlsx', sheet_name='Sheet1', index_col=None)\n",
    "data = pd.DataFrame.copy(df1)"
   ]
  },
  {
   "cell_type": "code",
   "execution_count": null,
   "metadata": {},
   "outputs": [],
   "source": [
    "# Calculate the average price\n",
    "data['lower_price'] = data['lower_price'].str.replace(',', '').astype(int)\n",
    "data['higher_price'] = data['higher_price'].str.replace(',', '').astype(int)\n",
    "data['average_price'] = (data['lower_price'] + data['higher_price']) / 2\n",
    "\n",
    "# Drop irrelevant columns\n",
    "cols_to_drop = ['סדרה', 'סוג מעבד', 'דגם מעבד', 'סוג הזכרון', 'סוג כונן קשיח',\n",
    "                'כונן אופטי', 'רזולוציית מסך', 'סוג מסך', 'מצלמת רשת', 'כרטיס מסך',\n",
    "                'תצורת 2 in 1', 'רשת אלחוטית', 'מודם סלולארי', 'crawling_time', 'lower_price', 'higher_price']\n",
    "data = data.drop(cols_to_drop, axis=1)\n",
    "\n",
    "# Change the col names to english\n",
    "column_mapping = {\n",
    "    'יצרן': 'manufacturer',\n",
    "    'תאריך כניסה לזאפ': 'date_of_entry_to_Zap',\n",
    "    'התאמה לגיימינג': 'gaming_Compatibility',\n",
    "    'מערכת הפעלה': 'operating_system',\n",
    "    'משקל': 'weight',\n",
    "    'נפח זיכרון RAM': 'RAM_capacity',\n",
    "    'מהירות מעבד': 'CPU_speed',\n",
    "    'דור מעבד': 'CPU_generation',\n",
    "    'נפח אחסון': 'storage_capacity',\n",
    "    'גודל מסך': 'screen_size',\n",
    "    'קצב רענון תצוגה': 'refresh_rate',\n",
    "    'מסך מגע': 'touch_screen',\n",
    "    'אמצעי אבטחה': 'security_features',\n",
    "    'חיבורים': 'connections'\n",
    "}\n",
    "data.rename(columns=column_mapping, inplace=True)"
   ]
  },
  {
   "cell_type": "code",
   "execution_count": null,
   "metadata": {},
   "outputs": [],
   "source": [
    "# check the data\n",
    "data.info()\n",
    "print(data.describe(include='all'))\n",
    "print(data)\n",
    "print(data.isnull().sum())\n",
    "print(data.duplicated(subset=None).sum())"
   ]
  },
  {
   "cell_type": "code",
   "execution_count": null,
   "metadata": {},
   "outputs": [],
   "source": [
    "# convert objects to float\n",
    "data['weight'] = data['weight'].apply(\n",
    "    lambda x: float(re.findall(r'\\d+(?:\\.\\d+)?', x)[0]) if re.findall(r'\\d+(?:\\.\\d+)?', x) else None)\n",
    "data['CPU_speed'] = data['CPU_speed'].apply(\n",
    "    lambda x: float(re.findall(r'\\d+(?:\\.\\d+)?', x)[0]) if re.findall(r'\\d+(?:\\.\\d+)?', x) else None)\n",
    "data['screen_size'] = data['screen_size'].apply(\n",
    "    lambda x: float(re.findall(r'\\d+(?:\\.\\d+)?', x)[0]) if re.findall(r'\\d+(?:\\.\\d+)?', x) else None)\n",
    "\n",
    "# convert objects to int\n",
    "data['RAM_capacity'] = data['RAM_capacity'].apply(\n",
    "    lambda x: int(re.findall(r'\\d+', x)[0]) if re.findall(r'\\d+', x) else None)\n",
    "data['RAM_capacity'] = data['RAM_capacity'].astype('Int64')\n",
    "data['CPU_generation'] = data['CPU_generation'].apply(\n",
    "    lambda x: int(re.findall(r'\\d+', x)[0]) if re.findall(r'\\d+', x) else None)\n",
    "data['CPU_generation'] = data['CPU_generation'].astype('Int64')\n",
    "data['storage_capacity'] = data['storage_capacity'].apply(\n",
    "    lambda x: int(re.findall(r'\\d+', x)[0]) if re.findall(r'\\d+', x) else None)\n",
    "data['storage_capacity'] = data['storage_capacity'].astype('Int64')\n",
    "data['refresh_rate'] = data['refresh_rate'].apply(\n",
    "    lambda x: int(re.findall(r'\\d+', x)[0]) if re.findall(r'\\d+', x) else None)\n",
    "data['refresh_rate'] = data['refresh_rate'].astype('Int64')\n",
    "data['date_of_entry_to_Zap'] = data['date_of_entry_to_Zap'].apply(\n",
    "    lambda x: int(re.findall(r'\\d+', x)[0]) if re.findall(r'\\d+', x) else None)\n",
    "data['date_of_entry_to_Zap'] = data['date_of_entry_to_Zap'].astype('Int64')\n",
    "data['CPU_mark'] = data['CPU_mark'].fillna('0').str.replace(',', '').astype('int64')\n",
    "data['connections'] = [len(row.split(', ')) for row in data['connections']]\n",
    "\n",
    "# convert objects to categorical\n",
    "data['gaming_Compatibility'] = [1 if x == 'גיימינג' else 0 for x in data['gaming_Compatibility']]\n",
    "data['gaming_Compatibility'] = data['gaming_Compatibility'].astype('category')\n",
    "data['touch_screen'] = [1 if x in ['כולל', 'מסך מגע משני'] else 0 for x in data['touch_screen']]\n",
    "data['touch_screen'] = data['touch_screen'].astype('category')\n",
    "data['operating_system'] = data['operating_system'].apply(lambda x: 1 if x != 'ללא' else 0)\n",
    "data['operating_system'] = data['operating_system'].astype('category')\n",
    "data['security_features'] = [\n",
    "    0 if x in ['לא כולל', 'לא רלוונטי', 'לא זמין'] else 1 for x in data['security_features']]\n",
    "data['security_features'] = data['security_features'].astype('category')"
   ]
  },
  {
   "cell_type": "code",
   "execution_count": null,
   "metadata": {},
   "outputs": [],
   "source": [
    "# Remove outliers\n",
    "new_df = data.copy()\n",
    "numeric_cols = new_df.select_dtypes(include=np.number).columns\n",
    "for col in numeric_cols:\n",
    "    z_score = (data[col] - data[col].mean()) / data[col].std()\n",
    "    outliers = abs(z_score) > 3\n",
    "    new_df.loc[outliers, col] = np.nan\n",
    "\n",
    "data_no_outliers = new_df"
   ]
  },
  {
   "cell_type": "code",
   "execution_count": null,
   "metadata": {},
   "outputs": [],
   "source": [
    "# check the data again\n",
    "print(data_no_outliers.isnull().sum())\n",
    "data_no_outliers.dropna(inplace=True)\n",
    "print(data_no_outliers.isnull().sum())\n",
    "print(data_no_outliers.duplicated(subset=None).sum())\n",
    "data_no_outliers = data_no_outliers.drop_duplicates()\n",
    "print(data_no_outliers.duplicated(subset=None).sum())\n",
    "data_no_outliers.to_excel(\"all_details_cleaned.xlsx\", index=False)"
   ]
  },
  {
   "attachments": {},
   "cell_type": "markdown",
   "metadata": {},
   "source": [
    "EDA and visualisition"
   ]
  },
  {
   "cell_type": "code",
   "execution_count": null,
   "metadata": {},
   "outputs": [],
   "source": [
    "import pandas as pd\n",
    "import matplotlib.pyplot as plt\n",
    "import seaborn as sns"
   ]
  },
  {
   "cell_type": "code",
   "execution_count": null,
   "metadata": {},
   "outputs": [],
   "source": [
    "# Read the DataFrame\n",
    "df = pd.read_excel('all_details_cleaned.xlsx', sheet_name='Sheet1', index_col=None)"
   ]
  },
  {
   "cell_type": "code",
   "execution_count": null,
   "metadata": {},
   "outputs": [],
   "source": [
    "# Histograms\n",
    "df.hist(figsize=(10, 8))\n",
    "plt.tight_layout()\n",
    "plt.show()"
   ]
  },
  {
   "cell_type": "code",
   "execution_count": null,
   "metadata": {},
   "outputs": [],
   "source": [
    "# Bar plots\n",
    "plt.figure(figsize=(8, 6))\n",
    "sns.countplot(data=df, x=\"manufacturer\")\n",
    "plt.xticks(rotation=45)\n",
    "plt.show()\n",
    "\n",
    "plt.figure(figsize=(10, 6))\n",
    "sns.barplot(x='manufacturer', y='average_price', data=df)\n",
    "plt.xlabel('Manufacturer')\n",
    "plt.ylabel('Average Price')\n",
    "plt.title('Average Price by Manufacturer')\n",
    "plt.xticks(rotation=45)  # Rotate x-axis labels if needed\n",
    "plt.show()"
   ]
  },
  {
   "cell_type": "code",
   "execution_count": null,
   "metadata": {},
   "outputs": [],
   "source": [
    "# Heatmap\n",
    "plt.figure(figsize=(10, 7))\n",
    "sns.heatmap(df.corr(), annot=True)\n",
    "plt.show()"
   ]
  },
  {
   "cell_type": "code",
   "execution_count": null,
   "metadata": {},
   "outputs": [],
   "source": [
    "# Line plot: Price over time\n",
    "plt.figure(figsize=(10, 6))\n",
    "sns.lineplot(data=df, x=\"date_of_entry_to_Zap\", y=\"average_price\", hue=\"manufacturer\")\n",
    "plt.xlabel(\"Date of Entry to Zap\")\n",
    "plt.ylabel(\"Average Price\")\n",
    "plt.title(\"Price Over Time by Manufacturer\")\n",
    "plt.xticks(rotation=45)\n",
    "plt.legend(loc=\"best\")\n",
    "plt.show()"
   ]
  },
  {
   "attachments": {},
   "cell_type": "markdown",
   "metadata": {},
   "source": [
    "Machine Learning"
   ]
  },
  {
   "cell_type": "code",
   "execution_count": null,
   "metadata": {},
   "outputs": [],
   "source": [
    "import numpy as np\n",
    "import pandas as pd\n",
    "from matplotlib import pyplot as plt\n",
    "from sklearn.ensemble import RandomForestRegressor\n",
    "from sklearn.model_selection import train_test_split\n",
    "from sklearn.preprocessing import StandardScaler\n",
    "from sklearn.neighbors import KNeighborsRegressor\n",
    "from sklearn.tree import DecisionTreeRegressor\n",
    "from sklearn.linear_model import LinearRegression\n",
    "from sklearn.metrics import r2_score, mean_squared_error"
   ]
  },
  {
   "cell_type": "code",
   "execution_count": null,
   "metadata": {},
   "outputs": [],
   "source": [
    "# Load the data\n",
    "df = pd.read_excel('all_details_cleaned.xlsx', sheet_name='Sheet1', index_col=None)\n",
    "\n",
    "# Separate features and target variable\n",
    "X = df.drop([\"average_price\", \"manufacturer\"], axis=1)  # Features\n",
    "y = df[\"average_price\"]\n",
    "\n",
    "# Split the data into training and test sets\n",
    "X_train, X_test, y_train, y_test = train_test_split(X, y, test_size=0.2, random_state=42)\n",
    "\n",
    "# Standardize the features\n",
    "scaler = StandardScaler()\n",
    "X_train_scaled = scaler.fit_transform(X_train)\n",
    "X_test_scaled = scaler.transform(X_test)"
   ]
  },
  {
   "cell_type": "code",
   "execution_count": null,
   "metadata": {},
   "outputs": [],
   "source": [
    "# Linear Regression\n",
    "lr = LinearRegression()\n",
    "lr.fit(X_train_scaled, y_train)\n",
    "lr_predictions = lr.predict(X_test_scaled)\n",
    "lr_r2 = r2_score(y_test, lr_predictions)\n",
    "mse = mean_squared_error(y_test, lr_predictions)\n",
    "print(\"Linear Regression results:\")\n",
    "print(\"R^2 Score:\", lr_r2)\n",
    "print(\"Mean Squared Error (MSE):\", mse)\n",
    "\n",
    "# First\n",
    "# Calculate the difference between predicted and actual values\n",
    "residuals = lr_predictions - y_test\n",
    "\n",
    "# Assign colors to point based on the difference\n",
    "colors = np.where(residuals >= 0, 'g', 'r')\n",
    "\n",
    "# Create scatter plot of predicted vs actual values with colors\n",
    "plt.scatter(y_test, lr_predictions, c=colors)\n",
    "plt.xlabel(\"Actual Price\")\n",
    "plt.ylabel(\"Predicted Price\")\n",
    "plt.title(\"Linear Regression: Actual vs Predicted Prices\")\n",
    "# Add the linear regression line with colors\n",
    "plt.plot(y_test, y_test, color='blue', linewidth=3)\n",
    "plt.fill_between(y_test, y_test, lr_predictions, where=(lr_predictions >= y_test), facecolor='green', alpha=0.3)\n",
    "plt.fill_between(y_test, y_test, lr_predictions, where=(lr_predictions == y_test), facecolor='pink', alpha=0.3)\n",
    "plt.fill_between(y_test, y_test, lr_predictions, where=(lr_predictions < y_test), facecolor='red', alpha=0.3)\n",
    "plt.show()\n",
    "\n",
    "# second\n",
    "# Create scatter plot of predicted vs actual values\n",
    "plt.scatter(y_test, lr_predictions, color='black')\n",
    "plt.xlabel(\"Actual Price\")\n",
    "plt.ylabel(\"Predicted Price\")\n",
    "plt.title(\"Linear Regression: Actual vs Predicted Prices\")\n",
    "\n",
    "# Add the linear regression line\n",
    "plt.plot(y_test, y_test, color='blue', linewidth=3)\n",
    "plt.show()\n",
    "\n",
    "# Third\n",
    "# Create scatter plot of predicted vs actual values\n",
    "plt.scatter(y_test, lr_predictions, color='lightblue', label='Predicted')\n",
    "plt.scatter(y_test, y_test, color='lightgreen', label='Actual')\n",
    "plt.xlabel(\"Actual Price\")\n",
    "plt.ylabel(\"Predicted Price\")\n",
    "plt.title(\"Linear Regression: Actual vs Predicted Prices\")\n",
    "plt.legend()\n",
    "\n",
    "# Add the linear regression line\n",
    "plt.plot(y_test, y_test, color='blue', linewidth=3)\n",
    "plt.show()"
   ]
  },
  {
   "cell_type": "code",
   "execution_count": null,
   "metadata": {},
   "outputs": [],
   "source": [
    "# k-Nearest Neighbors (k-NN)\n",
    "knn = KNeighborsRegressor(n_neighbors=11)\n",
    "knn.fit(X_train_scaled, y_train)\n",
    "knn_predictions = knn.predict(X_test_scaled)\n",
    "knn_r2 = r2_score(y_test, knn_predictions)\n",
    "mse = mean_squared_error(y_test, knn_predictions)\n",
    "print(\"k-NN results:\")\n",
    "print(\"R^2 Score:\", knn_r2)\n",
    "print(\"Mean Squared Error (MSE):\", mse)"
   ]
  },
  {
   "cell_type": "code",
   "execution_count": null,
   "metadata": {},
   "outputs": [],
   "source": [
    "# Decision Tree\n",
    "dt = DecisionTreeRegressor()\n",
    "dt.fit(X_train, y_train)\n",
    "dt_predictions = dt.predict(X_test)\n",
    "dt_r2 = r2_score(y_test, dt_predictions)\n",
    "mse = mean_squared_error(y_test, dt_predictions)\n",
    "print(\"Decision Tree results:\")\n",
    "print(\"R^2 Score:\", dt_r2)\n",
    "print(\"Mean Squared Error (MSE):\", mse)"
   ]
  },
  {
   "cell_type": "code",
   "execution_count": null,
   "metadata": {},
   "outputs": [],
   "source": [
    "# Random Forest Regression\n",
    "rf = RandomForestRegressor(random_state=42)\n",
    "rf.fit(X_train, y_train)\n",
    "rf_predictions = rf.predict(X_test)\n",
    "rf_r2 = r2_score(y_test, rf_predictions)\n",
    "mse = mean_squared_error(y_test, rf_predictions)\n",
    "print(\"Random Forest results:\")\n",
    "print(\"R^2 Score:\", rf_r2)\n",
    "print(\"Mean Squared Error (MSE):\", mse)\n",
    "\n",
    "\n",
    "# Plot actual vs predicted values\n",
    "plt.scatter(y_test, rf_predictions, alpha=0.5)\n",
    "plt.xlabel(\"Actual Values\")\n",
    "plt.ylabel(\"Predicted Values\")\n",
    "plt.title(\"Actual vs. Predicted Values (Random Forest Regression)\")\n",
    "plt.show()\n",
    "\n",
    "# Plot actual vs predicted values with colors\n",
    "plt.scatter(y_test, rf_predictions, c=y_test, cmap='coolwarm', alpha=0.5)\n",
    "plt.colorbar()\n",
    "plt.xlabel(\"Actual Values\")\n",
    "plt.ylabel(\"Predicted Values\")\n",
    "plt.title(\"Actual vs. Predicted Values (Random Forest Regression)\")\n",
    "plt.show()"
   ]
  }
 ],
 "metadata": {
  "kernelspec": {
   "display_name": "Python 3",
   "language": "python",
   "name": "python3"
  },
  "language_info": {
   "codemirror_mode": {
    "name": "ipython",
    "version": 3
   },
   "file_extension": ".py",
   "mimetype": "text/x-python",
   "name": "python",
   "nbconvert_exporter": "python",
   "pygments_lexer": "ipython3",
   "version": "3.10.11"
  },
  "orig_nbformat": 4
 },
 "nbformat": 4,
 "nbformat_minor": 2
}
